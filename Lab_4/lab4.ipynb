{
 "cells": [
  {
   "cell_type": "markdown",
   "metadata": {},
   "source": [
    "# Python math library"
   ]
  },
  {
   "cell_type": "code",
   "execution_count": null,
   "metadata": {},
   "outputs": [],
   "source": [
    "import math\n",
    "\n",
    "# 1\n",
    "degree = float(input(\"Input degree: \"))\n",
    "radian = math.radians(degree)\n",
    "print(f\"Output radian: {radian:.6f}\")\n",
    "\n",
    "# 2\n",
    "height = float(input(\"Height: \"))\n",
    "base1 = float(input(\"Base, first value: \"))\n",
    "base2 = float(input(\"Base, second value: \"))\n",
    "\n",
    "area_trapezoid = (base1 + base2) / 2 * height\n",
    "print(f\"Expected Output: {area_trapezoid}\")\n",
    "\n",
    "# 3\n",
    "sides = int(input(\"Input number of sides: \"))\n",
    "length = float(input(\"Input the length of a side: \"))\n",
    "\n",
    "area_polygon = (sides * length**2) / (4 * math.tan(math.pi / sides))\n",
    "print(f\"The area of the polygon is: {area_polygon}\")\n",
    "\n",
    "# 4\n",
    "base = float(input(\"Length of base: \"))\n",
    "height = float(input(\"Height of parallelogram: \"))\n",
    "\n",
    "area_parallelogram = base * height\n",
    "print(f\"Expected Output: {area_parallelogram}\")\n"
   ]
  },
  {
   "cell_type": "markdown",
   "metadata": {},
   "source": [
    "## Python generators"
   ]
  },
  {
   "cell_type": "code",
   "execution_count": null,
   "metadata": {},
   "outputs": [
    {
     "name": "stdout",
     "output_type": "stream",
     "text": [
      "1 4 \n",
      "0 2 4 \n",
      "0 \n",
      "4 9 16 25 36 49 64 81 \n",
      "16 15 14 13 12 11 10 9 8 7 6 5 4 3 2 1 0 "
     ]
    }
   ],
   "source": [
    "# 1\n",
    "def sq_numbers(N):\n",
    "    for i in range(1, int(math.sqrt(N)) + 1):\n",
    "        yield i**2\n",
    "\n",
    "N = int(input(\"Enter N: \"))\n",
    "print(\"Squares up to N:\")\n",
    "print(*sq_numbers(N))\n",
    "\n",
    "# 2\n",
    "def even_numbers(N):\n",
    "    for i in range(0, N + 1, 2):\n",
    "        yield i\n",
    "\n",
    "N = int(input(\"Enter N for even numbers: \"))\n",
    "print(\"Even numbers up to N:\")\n",
    "print(*even_numbers(N))\n",
    "\n",
    "# 3\n",
    "def divisible_by_3_and_4(N):\n",
    "    for i in range(N + 1):\n",
    "        if i % 3 == 0 and i % 4 == 0:\n",
    "            yield i\n",
    "\n",
    "N = int(input(\"Enter N for divisibility test: \"))\n",
    "print(\"Numbers divisible by 3 and 4 up to N:\")\n",
    "print(*divisible_by_3_and_4(N))\n",
    "\n",
    "# 4\n",
    "def squares(a, b):\n",
    "    for i in range(a, b + 1):\n",
    "        yield i**2\n",
    "\n",
    "a = int(input(\"Enter start value (a): \"))\n",
    "b = int(input(\"Enter end value (b): \"))\n",
    "\n",
    "print(\"Squares from a to b:\")\n",
    "print(*squares(a, b))\n",
    "\n",
    "# 5\n",
    "def countdown(N):\n",
    "    for i in range(N, -1, -1):\n",
    "        yield i\n",
    "\n",
    "N = int(input(\"Enter N for countdown: \"))\n",
    "print(\"Countdown from N to 0:\")\n",
    "print(*countdown(N))\n"
   ]
  },
  {
   "cell_type": "markdown",
   "metadata": {},
   "source": [
    "## Python dates"
   ]
  },
  {
   "cell_type": "code",
   "execution_count": 1,
   "metadata": {},
   "outputs": [
    {
     "name": "stdout",
     "output_type": "stream",
     "text": [
      "5 days ago: 02/17/25\n",
      "Yesterday: 02/21/25\n",
      "Today: 02/22/25\n",
      "Tomorrow: 02/23/25\n",
      "Current time without ms: 2025-02-22 09:02:04\n",
      "Difference: 43200\n"
     ]
    }
   ],
   "source": [
    "from datetime import datetime, timedelta\n",
    "\n",
    "# 1\n",
    "today = datetime.now()\n",
    "five_days_ago = today - timedelta(days=5)\n",
    "print(\"5 days ago:\", five_days_ago.strftime(\"%x\"))\n",
    "\n",
    "# 2\n",
    "yesterday = today - timedelta(days=1)\n",
    "tomorrow = today + timedelta(days=1)\n",
    "\n",
    "print(\"Yesterday:\", yesterday.strftime(\"%x\"))\n",
    "print(\"Today:\", today.strftime(\"%x\"))\n",
    "print(\"Tomorrow:\", tomorrow.strftime(\"%x\"))\n",
    "\n",
    "# 3\n",
    "current_time = today.replace(microsecond=0)\n",
    "print(\"Current time without ms:\", current_time)\n",
    "\n",
    "# 4\n",
    "lower = datetime(2018, 12, 10, 0, 10)\n",
    "upper = datetime(2018, 12, 10, 12, 10)\n",
    "\n",
    "difference_seconds = abs((upper - lower).total_seconds())\n",
    "print(\"Difference:\", int(difference_seconds))\n"
   ]
  }
 ],
 "metadata": {
  "kernelspec": {
   "display_name": "Python 3",
   "language": "python",
   "name": "python3"
  },
  "language_info": {
   "codemirror_mode": {
    "name": "ipython",
    "version": 3
   },
   "file_extension": ".py",
   "mimetype": "text/x-python",
   "name": "python",
   "nbconvert_exporter": "python",
   "pygments_lexer": "ipython3",
   "version": "3.12.5"
  }
 },
 "nbformat": 4,
 "nbformat_minor": 2
}
