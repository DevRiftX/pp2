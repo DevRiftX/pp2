{
 "cells": [
  {
   "cell_type": "markdown",
   "metadata": {},
   "source": [
    "# Python math library"
   ]
  },
  {
   "cell_type": "code",
   "execution_count": null,
   "metadata": {},
   "outputs": [],
   "source": [
    "import math\n",
    "\n",
    "# 1\n",
    "degree = int(input(\"Input degree: \"))\n",
    "print(f\"Output radian: {math.radians(degree):.3f}\")\n",
    "\n",
    "# 2\n",
    "height = int(input(\"Height: \"))\n",
    "base1 = int(input(\"Base, first value: \"))\n",
    "base2 = int(input(\"Base, second value: \"))\n",
    "\n",
    "area = (base1 + base2)/2*height\n",
    "\n",
    "print(f\"Expected output: {area}\")\n",
    "\n",
    "# 3 \n",
    "sides = int(input(\"Input number of sides: \"))\n",
    "length = int(input(\"Input the length of a side: \"))\n",
    "apothem = length/(2 * math.tan(180/sides))\n",
    "area = sides * length * apothem / 2\n",
    "\n",
    "print(f\"The area of the polygon is: {area}\")\n",
    "\n",
    "# 4\n",
    "base = int(input(\"Length of base: \"))\n",
    "height = int(input(\"Height of parallelogram: \"))\n",
    "\n",
    "area = base * height\n",
    "print(f\"Expected Output: {area}\")"
   ]
  },
  {
   "cell_type": "markdown",
   "metadata": {},
   "source": [
    "## Python generators"
   ]
  },
  {
   "cell_type": "code",
   "execution_count": null,
   "metadata": {},
   "outputs": [
    {
     "name": "stdout",
     "output_type": "stream",
     "text": [
      "1 4 \n",
      "0 2 4 \n",
      "0 \n",
      "4 9 16 25 36 49 64 81 \n",
      "16 15 14 13 12 11 10 9 8 7 6 5 4 3 2 1 0 "
     ]
    }
   ],
   "source": [
    "# 1\n",
    "import math\n",
    "def sq_numbers(N):\n",
    "    for i in range(1, int(math.sqrt(N))+1):\n",
    "        yield pow(i, 2)\n",
    "\n",
    "N = int(input())\n",
    "for x in sq_numbers(N):\n",
    "    print(x, end=\" \")\n",
    "\n",
    "print()\n",
    "# 2\n",
    "def even_numbers(N):\n",
    "    for i in range(0,N+1,2):\n",
    "        yield i\n",
    "\n",
    "N = int(input())\n",
    "for numbers in even_numbers(N):\n",
    "    print(f\"{numbers}\", end=\" \")\n",
    "\n",
    "print()\n",
    "\n",
    "# 3\n",
    "def div(N):\n",
    "    for i in range(N+1):\n",
    "        if i % 3 == 0 and i % 4 == 0:\n",
    "            yield i\n",
    "\n",
    "N = int(input())\n",
    "for numbers in div(N):\n",
    "    print(numbers, end=\" \")   \n",
    "\n",
    "print()\n",
    "# 4\n",
    "def squares(a, b):\n",
    "    for i in range(int(math.sqrt(a)), int(math.sqrt(b))+1):\n",
    "        yield pow(i,2)\n",
    "\n",
    "a = int(input())\n",
    "b = int(input())\n",
    "\n",
    "for numbers in squares(a, b):\n",
    "    print(numbers, end=\" \")\n",
    "\n",
    "print()\n",
    "# 5\n",
    "def down(N):\n",
    "    for i in range(N, -1, -1):\n",
    "        yield i\n",
    "\n",
    "N = int(input())\n",
    "for x in down(N):\n",
    "    print(x, end=\" \")        "
   ]
  },
  {
   "cell_type": "markdown",
   "metadata": {},
   "source": [
    "## Python dates"
   ]
  },
  {
   "cell_type": "code",
   "execution_count": 54,
   "metadata": {},
   "outputs": [
    {
     "name": "stdout",
     "output_type": "stream",
     "text": [
      "5 days ago:  02/10/25\n",
      "today: 02/15/25\n",
      "tomorrow: 02/14/25\n",
      "yesterday: 02/16/25\n",
      "02/15/25 16:56:47\n",
      "43200\n"
     ]
    }
   ],
   "source": [
    "from datetime import datetime, timedelta\n",
    "\n",
    "# 1\n",
    "today = datetime.now()\n",
    "\n",
    "print(\"5 days ago: \", (today - timedelta(days=5)).strftime(\"%x\"))\n",
    "\n",
    "\n",
    "# 2\n",
    "\n",
    "print ('today:', str(today.strftime(\"%x\")))\n",
    "tomorrow = today - timedelta(days = 1)\n",
    "yesterday = today + timedelta(days = 1)\n",
    "\n",
    "print('tomorrow:', str(tomorrow.strftime(\"%x\")))\n",
    "print('yesterday:', str(yesterday.strftime(\"%x\")))\n",
    "\n",
    "# 3\n",
    "print(today.strftime(\"%x %X\"))\n",
    "\n",
    "# 4\n",
    "lower = datetime(2018, 12, 10, 12, 10)\n",
    "upper = datetime(2018, 12, 10, 0, 10)\n",
    "\n",
    "print(abs((lower-upper).seconds))\n"
   ]
  }
 ],
 "metadata": {
  "kernelspec": {
   "display_name": "Python 3",
   "language": "python",
   "name": "python3"
  },
  "language_info": {
   "codemirror_mode": {
    "name": "ipython",
    "version": 3
   },
   "file_extension": ".py",
   "mimetype": "text/x-python",
   "name": "python",
   "nbconvert_exporter": "python",
   "pygments_lexer": "ipython3",
   "version": "3.12.5"
  }
 },
 "nbformat": 4,
 "nbformat_minor": 2
}
