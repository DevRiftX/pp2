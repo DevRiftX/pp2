{
 "cells": [
  {
   "cell_type": "code",
   "execution_count": 4,
   "metadata": {},
   "outputs": [
    {
     "name": "stdout",
     "output_type": "stream",
     "text": [
      "24\n",
      "{'Uppercase': 2, 'Lowercase': 8}\n",
      "True\n",
      "False\n",
      "Square root of 25100 after 2123 milliseconds is 158.42979517754858\n",
      "True\n",
      "False\n"
     ]
    }
   ],
   "source": [
    "# 1\n",
    "from math import prod\n",
    "\n",
    "def multiply_list(numbers):\n",
    "    return prod(numbers)\n",
    "\n",
    "print(multiply_list([1, 2, 3, 4]))\n",
    "\n",
    "# 2\n",
    "def count_case(s):\n",
    "    upper = sum(1 for c in s if c.isupper())\n",
    "    lower = sum(1 for c in s if c.islower())\n",
    "    return {\"Uppercase\": upper, \"Lowercase\": lower}\n",
    "\n",
    "print(count_case(\"Hello World!\"))\n",
    "\n",
    "# 3\n",
    "def is_palindrome(s):\n",
    "    return s == s[::-1]\n",
    "\n",
    "print(is_palindrome(\"radar\"))\n",
    "print(is_palindrome(\"hello\")) \n",
    "\n",
    "\n",
    "# 4\n",
    "import time\n",
    "import math\n",
    "\n",
    "def delayed_sqrt(number, delay):\n",
    "    time.sleep(delay / 1000)\n",
    "    return math.sqrt(number)\n",
    "\n",
    "# Sample Input\n",
    "num = 25100\n",
    "delay_ms = 2123\n",
    "\n",
    "# Output\n",
    "result = delayed_sqrt(num, delay_ms)\n",
    "print(f\"Square root of {num} after {delay_ms} milliseconds is {result}\")\n",
    "\n",
    "# 5 \n",
    "def all_true(t):\n",
    "    return all(t)\n",
    "\n",
    "print(all_true((True, True, True)))  \n",
    "print(all_true((True, False, True)))\n"
   ]
  }
 ],
 "metadata": {
  "kernelspec": {
   "display_name": "Python 3",
   "language": "python",
   "name": "python3"
  },
  "language_info": {
   "codemirror_mode": {
    "name": "ipython",
    "version": 3
   },
   "file_extension": ".py",
   "mimetype": "text/x-python",
   "name": "python",
   "nbconvert_exporter": "python",
   "pygments_lexer": "ipython3",
   "version": "3.12.5"
  }
 },
 "nbformat": 4,
 "nbformat_minor": 2
}
